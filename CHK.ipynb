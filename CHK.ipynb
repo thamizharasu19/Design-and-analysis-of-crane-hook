{
 "cells": [
  {
   "cell_type": "markdown",
   "id": "d4b7acef",
   "metadata": {},
   "source": [
    "# DESIGN PARAMETERS"
   ]
  },
  {
   "cell_type": "code",
   "execution_count": 2,
   "id": "cd8009e5",
   "metadata": {},
   "outputs": [],
   "source": [
    "#PARAMETER 1 --> HOOK RADIUS\n",
    "#PARAMETER 2 --> CROSS SECTION\n",
    "#PARAMETER 3 --> MATERIAL"
   ]
  },
  {
   "cell_type": "raw",
   "id": "2751256b",
   "metadata": {},
   "source": [
    "CROSS_SECTION\tMATERIAL\t      HOOK_RADIUS(mm)\n",
    "\n",
    "TRIANGLE\t  GRAY_CAST_IRON\t  100\n",
    "CIRCULAR\t  STRUCTURAL_STEEL\t  150\n",
    "TRAPEZOIDAL\t  HIGH_CARBON_STEEL\t  200\n"
   ]
  },
  {
   "cell_type": "raw",
   "id": "5a689e79",
   "metadata": {},
   "source": [
    "DESIGN OF EXPERIMENTS\n",
    "\n",
    "CROSS_SECTION\t   MATERIAL\t             HOOK_RADIUS(mm)\n",
    "TRIANGLE\t       GRAY_CAST_IRON\t     100\n",
    "TRIANGLE\t       STAINLESS_STEEL\t     150\n",
    "TRIANGLE\t       HIGH_CARBON_STEEL\t 200\n",
    "CIRCULAR\t       GRAY_CAST_IRON\t     150\n",
    "CIRCULAR\t       STAINLESS_STEEL\t     200\n",
    "CIRCULAR\t       HIGH_CARBON_STEEL\t 100\n",
    "TRAPEZOIDAL\t       GRAY_CAST_IRON\t     150\n",
    "TRAPEZOIDAL\t       STAINLESS_STEEL\t     100\n",
    "TRAPEZOIDAL\t       HIGH_CARBON_STEEL\t 200\n"
   ]
  },
  {
   "cell_type": "code",
   "execution_count": null,
   "id": "65f30021",
   "metadata": {},
   "outputs": [],
   "source": [
    "import numpy as np\n",
    "import pandas as pd\n",
    "import matplotlib.pyplot as plt\n",
    "import seaborn as sns"
   ]
  },
  {
   "cell_type": "code",
   "execution_count": 2,
   "id": "13af04c9",
   "metadata": {},
   "outputs": [],
   "source": [
    "df = pd.read_csv(r\"D:\\CAD_CAM_CAE_LABORATORY\\CRANE_HOOK_PROJECT\\others\\crane_hook_data.csv\")\n",
    "\n",
    "\n",
    "df_ = pd.read_csv(r\"D:\\CAD_CAM_CAE_LABORATORY\\CRANE_HOOK_PROJECT\\others\\data.csv\")\n",
    "#cross section:\n",
    "#1- tri, 2-cir, 3 - trap\n",
    "#mtl\n",
    "#1-gray, 2-ss, 3 - hcs"
   ]
  },
  {
   "cell_type": "code",
   "execution_count": 12,
   "id": "e7ba1ac4",
   "metadata": {},
   "outputs": [
    {
     "data": {
      "text/html": [
       "<div>\n",
       "<style scoped>\n",
       "    .dataframe tbody tr th:only-of-type {\n",
       "        vertical-align: middle;\n",
       "    }\n",
       "\n",
       "    .dataframe tbody tr th {\n",
       "        vertical-align: top;\n",
       "    }\n",
       "\n",
       "    .dataframe thead th {\n",
       "        text-align: right;\n",
       "    }\n",
       "</style>\n",
       "<table border=\"1\" class=\"dataframe\">\n",
       "  <thead>\n",
       "    <tr style=\"text-align: right;\">\n",
       "      <th></th>\n",
       "      <th>CROSS_SECTION</th>\n",
       "      <th>MATERIAL</th>\n",
       "      <th>HOOK_RADIUS(mm)</th>\n",
       "      <th>DEFORMATION(mm)</th>\n",
       "      <th>VON-MISES STRESS(Mpa)</th>\n",
       "      <th>NATURAL FREQUENCY(Hz)</th>\n",
       "    </tr>\n",
       "  </thead>\n",
       "  <tbody>\n",
       "    <tr>\n",
       "      <th>0</th>\n",
       "      <td>1</td>\n",
       "      <td>1</td>\n",
       "      <td>100</td>\n",
       "      <td>1.170</td>\n",
       "      <td>0.9200</td>\n",
       "      <td>109.52</td>\n",
       "    </tr>\n",
       "    <tr>\n",
       "      <th>1</th>\n",
       "      <td>1</td>\n",
       "      <td>2</td>\n",
       "      <td>150</td>\n",
       "      <td>3.778</td>\n",
       "      <td>2.7600</td>\n",
       "      <td>136.83</td>\n",
       "    </tr>\n",
       "    <tr>\n",
       "      <th>2</th>\n",
       "      <td>1</td>\n",
       "      <td>3</td>\n",
       "      <td>200</td>\n",
       "      <td>6.909</td>\n",
       "      <td>4.6063</td>\n",
       "      <td>141.76</td>\n",
       "    </tr>\n",
       "    <tr>\n",
       "      <th>3</th>\n",
       "      <td>2</td>\n",
       "      <td>1</td>\n",
       "      <td>150</td>\n",
       "      <td>18.440</td>\n",
       "      <td>1.0775</td>\n",
       "      <td>135.72</td>\n",
       "    </tr>\n",
       "    <tr>\n",
       "      <th>4</th>\n",
       "      <td>2</td>\n",
       "      <td>2</td>\n",
       "      <td>200</td>\n",
       "      <td>22.490</td>\n",
       "      <td>1.7990</td>\n",
       "      <td>161.50</td>\n",
       "    </tr>\n",
       "    <tr>\n",
       "      <th>5</th>\n",
       "      <td>2</td>\n",
       "      <td>3</td>\n",
       "      <td>100</td>\n",
       "      <td>1.850</td>\n",
       "      <td>0.3600</td>\n",
       "      <td>165.69</td>\n",
       "    </tr>\n",
       "    <tr>\n",
       "      <th>6</th>\n",
       "      <td>3</td>\n",
       "      <td>1</td>\n",
       "      <td>150</td>\n",
       "      <td>6.320</td>\n",
       "      <td>1.9000</td>\n",
       "      <td>123.82</td>\n",
       "    </tr>\n",
       "    <tr>\n",
       "      <th>7</th>\n",
       "      <td>3</td>\n",
       "      <td>2</td>\n",
       "      <td>100</td>\n",
       "      <td>7.840</td>\n",
       "      <td>0.3800</td>\n",
       "      <td>155.26</td>\n",
       "    </tr>\n",
       "    <tr>\n",
       "      <th>8</th>\n",
       "      <td>3</td>\n",
       "      <td>3</td>\n",
       "      <td>200</td>\n",
       "      <td>1.040</td>\n",
       "      <td>1.1600</td>\n",
       "      <td>161.30</td>\n",
       "    </tr>\n",
       "  </tbody>\n",
       "</table>\n",
       "</div>"
      ],
      "text/plain": [
       "   CROSS_SECTION  MATERIAL  HOOK_RADIUS(mm)  DEFORMATION(mm)  \\\n",
       "0              1         1              100            1.170   \n",
       "1              1         2              150            3.778   \n",
       "2              1         3              200            6.909   \n",
       "3              2         1              150           18.440   \n",
       "4              2         2              200           22.490   \n",
       "5              2         3              100            1.850   \n",
       "6              3         1              150            6.320   \n",
       "7              3         2              100            7.840   \n",
       "8              3         3              200            1.040   \n",
       "\n",
       "   VON-MISES STRESS(Mpa)  NATURAL FREQUENCY(Hz)  \n",
       "0                 0.9200                 109.52  \n",
       "1                 2.7600                 136.83  \n",
       "2                 4.6063                 141.76  \n",
       "3                 1.0775                 135.72  \n",
       "4                 1.7990                 161.50  \n",
       "5                 0.3600                 165.69  \n",
       "6                 1.9000                 123.82  \n",
       "7                 0.3800                 155.26  \n",
       "8                 1.1600                 161.30  "
      ]
     },
     "execution_count": 12,
     "metadata": {},
     "output_type": "execute_result"
    }
   ],
   "source": [
    "df"
   ]
  },
  {
   "cell_type": "code",
   "execution_count": 13,
   "id": "7df3c599",
   "metadata": {},
   "outputs": [
    {
     "data": {
      "text/html": [
       "<div>\n",
       "<style scoped>\n",
       "    .dataframe tbody tr th:only-of-type {\n",
       "        vertical-align: middle;\n",
       "    }\n",
       "\n",
       "    .dataframe tbody tr th {\n",
       "        vertical-align: top;\n",
       "    }\n",
       "\n",
       "    .dataframe thead th {\n",
       "        text-align: right;\n",
       "    }\n",
       "</style>\n",
       "<table border=\"1\" class=\"dataframe\">\n",
       "  <thead>\n",
       "    <tr style=\"text-align: right;\">\n",
       "      <th></th>\n",
       "      <th>CROSS_SECTION</th>\n",
       "      <th>MATERIAL</th>\n",
       "      <th>HOOK_RADIUS(mm)</th>\n",
       "      <th>DEFORMATION(mm)</th>\n",
       "      <th>VON-MISES STRESS(Mpa)</th>\n",
       "    </tr>\n",
       "  </thead>\n",
       "  <tbody>\n",
       "    <tr>\n",
       "      <th>0</th>\n",
       "      <td>TRIANGLE</td>\n",
       "      <td>GRAY_CAST_IRON</td>\n",
       "      <td>100</td>\n",
       "      <td>5.54</td>\n",
       "      <td>0.9200</td>\n",
       "    </tr>\n",
       "    <tr>\n",
       "      <th>1</th>\n",
       "      <td>TRIANGLE</td>\n",
       "      <td>STAINLESS_STEEL</td>\n",
       "      <td>150</td>\n",
       "      <td>3.78</td>\n",
       "      <td>2.7600</td>\n",
       "    </tr>\n",
       "    <tr>\n",
       "      <th>2</th>\n",
       "      <td>TRIANGLE</td>\n",
       "      <td>HIGH_CARBON_STEEL</td>\n",
       "      <td>200</td>\n",
       "      <td>6.91</td>\n",
       "      <td>4.6063</td>\n",
       "    </tr>\n",
       "    <tr>\n",
       "      <th>3</th>\n",
       "      <td>CIRCULAR</td>\n",
       "      <td>GRAY_CAST_IRON</td>\n",
       "      <td>150</td>\n",
       "      <td>18.44</td>\n",
       "      <td>1.0775</td>\n",
       "    </tr>\n",
       "    <tr>\n",
       "      <th>4</th>\n",
       "      <td>CIRCULAR</td>\n",
       "      <td>STAINLESS_STEEL</td>\n",
       "      <td>200</td>\n",
       "      <td>22.49</td>\n",
       "      <td>1.7990</td>\n",
       "    </tr>\n",
       "    <tr>\n",
       "      <th>5</th>\n",
       "      <td>CIRCULAR</td>\n",
       "      <td>HIGH_CARBON_STEEL</td>\n",
       "      <td>100</td>\n",
       "      <td>4.52</td>\n",
       "      <td>0.3600</td>\n",
       "    </tr>\n",
       "    <tr>\n",
       "      <th>6</th>\n",
       "      <td>TRAPEZOIDAL</td>\n",
       "      <td>GRAY_CAST_IRON</td>\n",
       "      <td>150</td>\n",
       "      <td>6.32</td>\n",
       "      <td>1.9000</td>\n",
       "    </tr>\n",
       "    <tr>\n",
       "      <th>7</th>\n",
       "      <td>TRAPEZOIDAL</td>\n",
       "      <td>STAINLESS_STEEL</td>\n",
       "      <td>100</td>\n",
       "      <td>7.84</td>\n",
       "      <td>1.1600</td>\n",
       "    </tr>\n",
       "    <tr>\n",
       "      <th>8</th>\n",
       "      <td>TRAPEZOIDAL</td>\n",
       "      <td>HIGH_CARBON_STEEL</td>\n",
       "      <td>200</td>\n",
       "      <td>2.02</td>\n",
       "      <td>0.3500</td>\n",
       "    </tr>\n",
       "  </tbody>\n",
       "</table>\n",
       "</div>"
      ],
      "text/plain": [
       "  CROSS_SECTION           MATERIAL  HOOK_RADIUS(mm)  DEFORMATION(mm)  \\\n",
       "0      TRIANGLE     GRAY_CAST_IRON              100             5.54   \n",
       "1      TRIANGLE    STAINLESS_STEEL              150             3.78   \n",
       "2      TRIANGLE  HIGH_CARBON_STEEL              200             6.91   \n",
       "3      CIRCULAR     GRAY_CAST_IRON              150            18.44   \n",
       "4      CIRCULAR    STAINLESS_STEEL              200            22.49   \n",
       "5      CIRCULAR  HIGH_CARBON_STEEL              100             4.52   \n",
       "6   TRAPEZOIDAL     GRAY_CAST_IRON              150             6.32   \n",
       "7   TRAPEZOIDAL    STAINLESS_STEEL              100             7.84   \n",
       "8   TRAPEZOIDAL  HIGH_CARBON_STEEL              200             2.02   \n",
       "\n",
       "   VON-MISES STRESS(Mpa)  \n",
       "0                 0.9200  \n",
       "1                 2.7600  \n",
       "2                 4.6063  \n",
       "3                 1.0775  \n",
       "4                 1.7990  \n",
       "5                 0.3600  \n",
       "6                 1.9000  \n",
       "7                 1.1600  \n",
       "8                 0.3500  "
      ]
     },
     "execution_count": 13,
     "metadata": {},
     "output_type": "execute_result"
    }
   ],
   "source": [
    "df_"
   ]
  },
  {
   "cell_type": "code",
   "execution_count": 26,
   "id": "e2cd6e0e",
   "metadata": {},
   "outputs": [
    {
     "data": {
      "text/html": [
       "<div>\n",
       "<style scoped>\n",
       "    .dataframe tbody tr th:only-of-type {\n",
       "        vertical-align: middle;\n",
       "    }\n",
       "\n",
       "    .dataframe tbody tr th {\n",
       "        vertical-align: top;\n",
       "    }\n",
       "\n",
       "    .dataframe thead th {\n",
       "        text-align: right;\n",
       "    }\n",
       "</style>\n",
       "<table border=\"1\" class=\"dataframe\">\n",
       "  <thead>\n",
       "    <tr style=\"text-align: right;\">\n",
       "      <th></th>\n",
       "      <th>CROSS_SECTION</th>\n",
       "      <th>MATERIAL</th>\n",
       "      <th>HOOK_RADIUS(mm)</th>\n",
       "    </tr>\n",
       "  </thead>\n",
       "  <tbody>\n",
       "    <tr>\n",
       "      <th>0</th>\n",
       "      <td>TRIANGLE</td>\n",
       "      <td>GRAY_CAST_IRON</td>\n",
       "      <td>100</td>\n",
       "    </tr>\n",
       "    <tr>\n",
       "      <th>1</th>\n",
       "      <td>TRIANGLE</td>\n",
       "      <td>STAINLESS_STEEL</td>\n",
       "      <td>150</td>\n",
       "    </tr>\n",
       "    <tr>\n",
       "      <th>2</th>\n",
       "      <td>TRIANGLE</td>\n",
       "      <td>HIGH_CARBON_STEEL</td>\n",
       "      <td>200</td>\n",
       "    </tr>\n",
       "    <tr>\n",
       "      <th>3</th>\n",
       "      <td>CIRCULAR</td>\n",
       "      <td>GRAY_CAST_IRON</td>\n",
       "      <td>150</td>\n",
       "    </tr>\n",
       "    <tr>\n",
       "      <th>4</th>\n",
       "      <td>CIRCULAR</td>\n",
       "      <td>STAINLESS_STEEL</td>\n",
       "      <td>200</td>\n",
       "    </tr>\n",
       "    <tr>\n",
       "      <th>5</th>\n",
       "      <td>CIRCULAR</td>\n",
       "      <td>HIGH_CARBON_STEEL</td>\n",
       "      <td>100</td>\n",
       "    </tr>\n",
       "    <tr>\n",
       "      <th>6</th>\n",
       "      <td>TRAPEZOIDAL</td>\n",
       "      <td>GRAY_CAST_IRON</td>\n",
       "      <td>150</td>\n",
       "    </tr>\n",
       "    <tr>\n",
       "      <th>7</th>\n",
       "      <td>TRAPEZOIDAL</td>\n",
       "      <td>STAINLESS_STEEL</td>\n",
       "      <td>100</td>\n",
       "    </tr>\n",
       "    <tr>\n",
       "      <th>8</th>\n",
       "      <td>TRAPEZOIDAL</td>\n",
       "      <td>HIGH_CARBON_STEEL</td>\n",
       "      <td>200</td>\n",
       "    </tr>\n",
       "  </tbody>\n",
       "</table>\n",
       "</div>"
      ],
      "text/plain": [
       "  CROSS_SECTION           MATERIAL  HOOK_RADIUS(mm)\n",
       "0      TRIANGLE     GRAY_CAST_IRON              100\n",
       "1      TRIANGLE    STAINLESS_STEEL              150\n",
       "2      TRIANGLE  HIGH_CARBON_STEEL              200\n",
       "3      CIRCULAR     GRAY_CAST_IRON              150\n",
       "4      CIRCULAR    STAINLESS_STEEL              200\n",
       "5      CIRCULAR  HIGH_CARBON_STEEL              100\n",
       "6   TRAPEZOIDAL     GRAY_CAST_IRON              150\n",
       "7   TRAPEZOIDAL    STAINLESS_STEEL              100\n",
       "8   TRAPEZOIDAL  HIGH_CARBON_STEEL              200"
      ]
     },
     "execution_count": 26,
     "metadata": {},
     "output_type": "execute_result"
    }
   ],
   "source": [
    "X_ = df_.iloc[:, : 3]\n",
    "y_ = df_.iloc[:,3:7]\n",
    "X_"
   ]
  },
  {
   "cell_type": "code",
   "execution_count": 21,
   "id": "8379eb7d",
   "metadata": {},
   "outputs": [
    {
     "name": "stderr",
     "output_type": "stream",
     "text": [
      "C:\\Users\\tamil\\anaconda3\\lib\\site-packages\\seaborn\\axisgrid.py:645: UserWarning: Using the barplot function without specifying `order` is likely to produce an incorrect plot.\n",
      "  warnings.warn(warning)\n",
      "C:\\Users\\tamil\\anaconda3\\lib\\site-packages\\seaborn\\axisgrid.py:677: FutureWarning: iteritems is deprecated and will be removed in a future version. Use .items instead.\n",
      "  plot_args = [v for k, v in plot_data.iteritems()]\n",
      "C:\\Users\\tamil\\anaconda3\\lib\\site-packages\\seaborn\\axisgrid.py:677: FutureWarning: iteritems is deprecated and will be removed in a future version. Use .items instead.\n",
      "  plot_args = [v for k, v in plot_data.iteritems()]\n",
      "C:\\Users\\tamil\\anaconda3\\lib\\site-packages\\seaborn\\axisgrid.py:677: FutureWarning: iteritems is deprecated and will be removed in a future version. Use .items instead.\n",
      "  plot_args = [v for k, v in plot_data.iteritems()]\n"
     ]
    },
    {
     "data": {
      "image/png": "[encoded data removed]",
      "text/plain": [
       "<Figure size 1080x360 with 3 Axes>"
      ]
     },
     "metadata": {
      "needs_background": "light"
     },
     "output_type": "display_data"
    }
   ],
   "source": [
    "grap = sns.FacetGrid (df_, col = \"MATERIAL\", height=5)\n",
    "grap.map(sns.barplot,\"CROSS_SECTION\",\"VON-MISES STRESS(Mpa)\")\n",
    "plt.show()"
   ]
  },
  {
   "cell_type": "code",
   "execution_count": null,
   "id": "68c589d6",
   "metadata": {},
   "outputs": [],
   "source": []
  },
  {
   "cell_type": "code",
   "execution_count": 15,
   "id": "8a09ac46",
   "metadata": {},
   "outputs": [],
   "source": [
    "from sklearn.model_selection import train_test_split\n",
    "\n",
    "X_train, X_test, y_train, y_test = train_test_split(X, y, test_size=0.2)"
   ]
  },
  {
   "cell_type": "code",
   "execution_count": 16,
   "id": "ee2e1d2f",
   "metadata": {},
   "outputs": [
    {
     "data": {
      "text/plain": [
       "-1.6463735824272334"
      ]
     },
     "execution_count": 16,
     "metadata": {},
     "output_type": "execute_result"
    }
   ],
   "source": [
    "from sklearn.ensemble import RandomForestRegressor\n",
    "\n",
    "model_rf = RandomForestRegressor()\n",
    "\n",
    "model_rf.fit(X_train,y_train)\n",
    "\n",
    "model_rf.score(X_test,y_test)"
   ]
  },
  {
   "cell_type": "code",
   "execution_count": 17,
   "id": "20804059",
   "metadata": {},
   "outputs": [
    {
     "data": {
      "text/plain": [
       "-5.8658902156444865"
      ]
     },
     "execution_count": 17,
     "metadata": {},
     "output_type": "execute_result"
    }
   ],
   "source": [
    "from sklearn.linear_model import LinearRegression\n",
    "\n",
    "model_ln = LinearRegression()\n",
    "\n",
    "model_ln.fit(X_train,y_train)\n",
    "\n",
    "model_ln.score(X_test,y_test)"
   ]
  },
  {
   "cell_type": "code",
   "execution_count": 18,
   "id": "3f5cfb54",
   "metadata": {},
   "outputs": [
    {
     "data": {
      "text/plain": [
       "-1.206120271968983"
      ]
     },
     "execution_count": 18,
     "metadata": {},
     "output_type": "execute_result"
    }
   ],
   "source": [
    "from xgboost import XGBRegressor\n",
    "\n",
    "model_xg = XGBRegressor()\n",
    "\n",
    "model_xg.fit(X_train,y_train)\n",
    "\n",
    "model_xg.score(X_test,y_test)"
   ]
  },
  {
   "cell_type": "code",
   "execution_count": 20,
   "id": "8edb3191",
   "metadata": {},
   "outputs": [
    {
     "data": {
      "image/png": "[encoded data removed]",
      "text/plain": [
       "<Figure size 432x288 with 2 Axes>"
      ]
     },
     "metadata": {
      "needs_background": "light"
     },
     "output_type": "display_data"
    }
   ],
   "source": [
    "dataplot = sns.heatmap(df.corr(), cmap=\"YlGnBu\", annot=True)\n",
    "  \n",
    "# displaying heatmap\n",
    "plt.show()"
   ]
  },
  {
   "cell_type": "code",
   "execution_count": 21,
   "id": "aa4a2717",
   "metadata": {},
   "outputs": [
    {
     "data": {
      "text/plain": [
       "<seaborn.axisgrid.PairGrid at 0x21005846b50>"
      ]
     },
     "execution_count": 21,
     "metadata": {},
     "output_type": "execute_result"
    },
    {
     "data": {
      "image/png": "[encoded data removed]",
      "text/plain": [
       "<Figure size 1080x1080 with 42 Axes>"
      ]
     },
     "metadata": {
      "needs_background": "light"
     },
     "output_type": "display_data"
    }
   ],
   "source": [
    "sns.pairplot(df)"
   ]
  },
  {
   "cell_type": "code",
   "execution_count": null,
   "id": "416aeafb",
   "metadata": {},
   "outputs": [],
   "source": []
  }
 ],
 "metadata": {
  "kernelspec": {
   "display_name": "Python 3",
   "language": "python",
   "name": "python3"
  },
  "language_info": {
   "codemirror_mode": {
    "name": "ipython",
    "version": 3
   },
   "file_extension": ".py",
   "mimetype": "text/x-python",
   "name": "python",
   "nbconvert_exporter": "python",
   "pygments_lexer": "ipython3",
   "version": "3.8.5"
  }
 },
 "nbformat": 4,
 "nbformat_minor": 5
}
